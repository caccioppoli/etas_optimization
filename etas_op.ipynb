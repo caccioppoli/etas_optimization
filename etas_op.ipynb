{
  "nbformat": 4,
  "nbformat_minor": 0,
  "metadata": {
    "colab": {
      "name": "etas_op.ipynb",
      "provenance": [],
      "authorship_tag": "ABX9TyPY62p7hym2w8yB0I4TjE0v",
      "include_colab_link": true
    },
    "kernelspec": {
      "name": "python3",
      "display_name": "Python 3"
    },
    "language_info": {
      "name": "python"
    }
  },
  "cells": [
    {
      "cell_type": "markdown",
      "metadata": {
        "id": "view-in-github",
        "colab_type": "text"
      },
      "source": [
        "<a href=\"https://colab.research.google.com/github/caccioppoli/etas_optimization/blob/main/etas_op.ipynb\" target=\"_parent\"><img src=\"https://colab.research.google.com/assets/colab-badge.svg\" alt=\"Open In Colab\"/></a>"
      ]
    },
    {
      "cell_type": "code",
      "execution_count": 39,
      "metadata": {
        "id": "3949YQfTKkEq",
        "colab": {
          "base_uri": "https://localhost:8080/"
        },
        "outputId": "612403e3-0fd7-4992-a545-3e9ec5d9066c"
      },
      "outputs": [
        {
          "output_type": "stream",
          "name": "stdout",
          "text": [
            "Drive already mounted at /content/drive; to attempt to forcibly remount, call drive.mount(\"/content/drive\", force_remount=True).\n"
          ]
        }
      ],
      "source": [
        "import numpy as np\n",
        "import pandas as pd\n",
        "import pickle as pkl\n",
        "import scipy.stats as stats\n",
        "import matplotlib.pyplot as plt\n",
        "import datetime\n",
        "import time\n",
        "from google.colab import drive\n",
        "drive.mount('/content/drive')"
      ]
    },
    {
      "cell_type": "markdown",
      "source": [
        "Loading instrumental catalog"
      ],
      "metadata": {
        "id": "utew4z8VbMcQ"
      }
    },
    {
      "cell_type": "code",
      "source": [
        "with open(\"drive/MyDrive/Colab Notebooks/cat_italia.txt\",\"r\") as infile, open(\"drive/MyDrive/Colab Notebooks/cat_italia_conv.txt\",'w') as outfile:\n",
        "    for line in infile:\n",
        "      outfile.write(\" \".join(line.split()).replace('|',' '))\n",
        "      outfile.write(\"\\n\")\n",
        "\n",
        "\n",
        "      \n"
      ],
      "metadata": {
        "id": "yATO705CARVs"
      },
      "execution_count": 52,
      "outputs": []
    },
    {
      "cell_type": "code",
      "source": [
        ""
      ],
      "metadata": {
        "id": "VdWnGejTGmyT"
      },
      "execution_count": null,
      "outputs": []
    }
  ]
}