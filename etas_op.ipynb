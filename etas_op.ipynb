{
  "nbformat": 4,
  "nbformat_minor": 0,
  "metadata": {
    "colab": {
      "name": "etas_op.ipynb",
      "provenance": [],
      "authorship_tag": "ABX9TyN7Fvf3nbmT0ZQjm21pfJd8",
      "include_colab_link": true
    },
    "kernelspec": {
      "name": "python3",
      "display_name": "Python 3"
    },
    "language_info": {
      "name": "python"
    }
  },
  "cells": [
    {
      "cell_type": "markdown",
      "metadata": {
        "id": "view-in-github",
        "colab_type": "text"
      },
      "source": [
        "<a href=\"https://colab.research.google.com/github/caccioppoli/etas_optimization/blob/main/etas_op.ipynb\" target=\"_parent\"><img src=\"https://colab.research.google.com/assets/colab-badge.svg\" alt=\"Open In Colab\"/></a>"
      ]
    },
    {
      "cell_type": "code",
      "execution_count": 36,
      "metadata": {
        "id": "3949YQfTKkEq",
        "colab": {
          "base_uri": "https://localhost:8080/"
        },
        "outputId": "65f7ea20-0937-4385-f905-94dd67da6dee"
      },
      "outputs": [
        {
          "output_type": "stream",
          "name": "stdout",
          "text": [
            "Drive already mounted at /content/drive; to attempt to forcibly remount, call drive.mount(\"/content/drive\", force_remount=True).\n"
          ]
        }
      ],
      "source": [
        "import numpy as np\n",
        "import pandas as pd\n",
        "import pickle as pkl\n",
        "import scipy.stats as stats\n",
        "import matplotlib.pyplot as plt\n",
        "from datetime import datetime\n",
        "import time\n",
        "from google.colab import drive\n",
        "drive.mount('/content/drive')"
      ]
    },
    {
      "cell_type": "markdown",
      "source": [
        "# Loading instrumental catalog"
      ],
      "metadata": {
        "id": "utew4z8VbMcQ"
      }
    },
    {
      "cell_type": "code",
      "source": [
        "with open(\"drive/MyDrive/Colab Notebooks/cat_italia.txt\",\"r\") as infile, open(\"drive/MyDrive/Colab Notebooks/cat_italia_conv.txt\",'w') as outfile:\n",
        "    for line in infile:\n",
        "      outfile.write(\" \".join(line.split()).replace('|',' '))\n",
        "      outfile.write(\"\\n\")\n",
        "\n",
        "# converto e memorizzo in secondi la data \n",
        "\n",
        "sdate = np.genfromtxt(\"drive/MyDrive/Colab Notebooks/cat_italia_conv.txt\",dtype=\"str\",delimiter=\" \",usecols=(1))\n",
        "startdate = datetime.strptime('1985-01-02T18:39:30.740000',\"%Y-%m-%dT%H:%M:%S.%f\")\n",
        "seconds = []\n",
        "for time in sdate:\n",
        "  date = datetime.strptime(time,\"%Y-%m-%dT%H:%M:%S.%f\")\n",
        "  temp = (date - startdate).total_seconds()\n",
        "  seconds.append(temp)\n",
        "\n",
        "# converto e memorizzo le altre grandezze del catalogo\n",
        "\n",
        "latitude = np.genfromtxt(\"drive/MyDrive/Colab Notebooks/cat_italia_conv.txt\",dtype=\"float\",delimiter=\" \",usecols=(2))\n",
        "longitude = np.genfromtxt(\"drive/MyDrive/Colab Notebooks/cat_italia_conv.txt\",dtype=\"float\",delimiter=\" \",usecols=(3))\n",
        "depth = np.genfromtxt(\"drive/MyDrive/Colab Notebooks/cat_italia_conv.txt\",dtype=\"float\",delimiter=\" \",usecols=(4))\n",
        "magnitude = np.genfromtxt(\"drive/MyDrive/Colab Notebooks/cat_italia_conv.txt\",dtype=\"float\",delimiter=\" \",usecols=(10))\n"
      ],
      "metadata": {
        "id": "yATO705CARVs",
        "outputId": "0acfad4e-d3dd-4511-e8ac-bd9599f0ab7b",
        "colab": {
          "base_uri": "https://localhost:8080/"
        }
      },
      "execution_count": 82,
      "outputs": [
        {
          "output_type": "stream",
          "name": "stdout",
          "text": [
            "0.0 48.092 7.061 3.7\n"
          ]
        }
      ]
    },
    {
      "cell_type": "code",
      "source": [
        ""
      ],
      "metadata": {
        "id": "VdWnGejTGmyT"
      },
      "execution_count": null,
      "outputs": []
    }
  ]
}