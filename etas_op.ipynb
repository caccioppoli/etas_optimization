{
  "nbformat": 4,
  "nbformat_minor": 0,
  "metadata": {
    "colab": {
      "name": "etas_op.ipynb",
      "provenance": [],
      "mount_file_id": "https://github.com/caccioppoli/etas_optimization/blob/main/etas_op.ipynb",
      "authorship_tag": "ABX9TyPjFmzw74sFbZwSqfqX4maB",
      "include_colab_link": true
    },
    "kernelspec": {
      "name": "python3",
      "display_name": "Python 3"
    },
    "language_info": {
      "name": "python"
    }
  },
  "cells": [
    {
      "cell_type": "markdown",
      "metadata": {
        "id": "view-in-github",
        "colab_type": "text"
      },
      "source": [
        "<a href=\"https://colab.research.google.com/github/caccioppoli/etas_optimization/blob/main/etas_op.ipynb\" target=\"_parent\"><img src=\"https://colab.research.google.com/assets/colab-badge.svg\" alt=\"Open In Colab\"/></a>"
      ]
    },
    {
      "cell_type": "markdown",
      "source": [
        "#Importing libraries"
      ],
      "metadata": {
        "id": "MqswhN4Y-6a5"
      }
    },
    {
      "cell_type": "code",
      "execution_count": 4,
      "metadata": {
        "id": "3949YQfTKkEq",
        "colab": {
          "base_uri": "https://localhost:8080/"
        },
        "outputId": "a8b68b19-bab7-4803-9ae6-5dd38068dd37"
      },
      "outputs": [
        {
          "output_type": "stream",
          "name": "stdout",
          "text": [
            "Drive already mounted at /content/drive; to attempt to forcibly remount, call drive.mount(\"/content/drive\", force_remount=True).\n"
          ]
        }
      ],
      "source": [
        "import numpy as np\n",
        "import pandas as pd\n",
        "import pickle as pkl\n",
        "import scipy.stats as stats\n",
        "import matplotlib.pyplot as plt\n",
        "from datetime import datetime\n",
        "from math import radians, cos, sin, asin, sqrt\n",
        "import time\n",
        "from google.colab import drive\n",
        "drive.mount('/content/drive')"
      ]
    },
    {
      "cell_type": "markdown",
      "source": [
        "# Loading instrumental catalog"
      ],
      "metadata": {
        "id": "utew4z8VbMcQ"
      }
    },
    {
      "cell_type": "code",
      "source": [
        "with open(\"drive/MyDrive/Colab Notebooks/cat_italia2.txt\",\"r\") as infile, open(\"drive/MyDrive/Colab Notebooks/cat_italia_conv.txt\",'w') as outfile:\n",
        "    for line in infile:\n",
        "      outfile.write(\" \".join(line.split()).replace('|',' '))\n",
        "      outfile.write(\"\\n\")\n",
        "\n",
        "# converto e memorizzo in secondi la data \n",
        "\n",
        "sdate = np.genfromtxt(\"drive/MyDrive/Colab Notebooks/cat_italia_conv.txt\",dtype=\"str\",delimiter=\" \",usecols=(1))\n",
        "startdate = datetime.strptime('1985-01-02T18:39:30.740000',\"%Y-%m-%dT%H:%M:%S.%f\")\n",
        "seconds = []\n",
        "for time in sdate:\n",
        "  date = datetime.strptime(time,\"%Y-%m-%dT%H:%M:%S.%f\")\n",
        "  temp = (date - startdate).total_seconds()\n",
        "  seconds.append(temp)\n",
        "\n",
        "# converto e memorizzo le altre grandezze del catalogo\n",
        "\n",
        "latitude = np.genfromtxt(\"drive/MyDrive/Colab Notebooks/cat_italia_conv.txt\",dtype=\"float\",delimiter=\" \",usecols=(2))\n",
        "longitude = np.genfromtxt(\"drive/MyDrive/Colab Notebooks/cat_italia_conv.txt\",dtype=\"float\",delimiter=\" \",usecols=(3))\n",
        "depth = np.genfromtxt(\"drive/MyDrive/Colab Notebooks/cat_italia_conv.txt\",dtype=\"float\",delimiter=\" \",usecols=(4))\n",
        "magnitude = np.genfromtxt(\"drive/MyDrive/Colab Notebooks/cat_italia_conv.txt\",dtype=\"float\",delimiter=\" \",usecols=(10))\n",
        "\n",
        "plt.plot(latitude,longitude)\n",
        "plt.show()\n"
      ],
      "metadata": {
        "id": "yATO705CARVs",
        "colab": {
          "base_uri": "https://localhost:8080/",
          "height": 1000
        },
        "outputId": "72df05cb-06dd-46af-e97c-714457e17549"
      },
      "execution_count": 5,
      "outputs": [
        {
          "output_type": "error",
          "ename": "ValueError",
          "evalue": "ignored",
          "traceback": [
            "\u001b[0;31m---------------------------------------------------------------------------\u001b[0m",
            "\u001b[0;31mValueError\u001b[0m                                Traceback (most recent call last)",
            "\u001b[0;32m<ipython-input-5-edda37445ea6>\u001b[0m in \u001b[0;36m<module>\u001b[0;34m()\u001b[0m\n\u001b[1;32m     19\u001b[0m \u001b[0mlongitude\u001b[0m \u001b[0;34m=\u001b[0m \u001b[0mnp\u001b[0m\u001b[0;34m.\u001b[0m\u001b[0mgenfromtxt\u001b[0m\u001b[0;34m(\u001b[0m\u001b[0;34m\"drive/MyDrive/Colab Notebooks/cat_italia_conv.txt\"\u001b[0m\u001b[0;34m,\u001b[0m\u001b[0mdtype\u001b[0m\u001b[0;34m=\u001b[0m\u001b[0;34m\"float\"\u001b[0m\u001b[0;34m,\u001b[0m\u001b[0mdelimiter\u001b[0m\u001b[0;34m=\u001b[0m\u001b[0;34m\" \"\u001b[0m\u001b[0;34m,\u001b[0m\u001b[0musecols\u001b[0m\u001b[0;34m=\u001b[0m\u001b[0;34m(\u001b[0m\u001b[0;36m3\u001b[0m\u001b[0;34m)\u001b[0m\u001b[0;34m)\u001b[0m\u001b[0;34m\u001b[0m\u001b[0;34m\u001b[0m\u001b[0m\n\u001b[1;32m     20\u001b[0m \u001b[0mdepth\u001b[0m \u001b[0;34m=\u001b[0m \u001b[0mnp\u001b[0m\u001b[0;34m.\u001b[0m\u001b[0mgenfromtxt\u001b[0m\u001b[0;34m(\u001b[0m\u001b[0;34m\"drive/MyDrive/Colab Notebooks/cat_italia_conv.txt\"\u001b[0m\u001b[0;34m,\u001b[0m\u001b[0mdtype\u001b[0m\u001b[0;34m=\u001b[0m\u001b[0;34m\"float\"\u001b[0m\u001b[0;34m,\u001b[0m\u001b[0mdelimiter\u001b[0m\u001b[0;34m=\u001b[0m\u001b[0;34m\" \"\u001b[0m\u001b[0;34m,\u001b[0m\u001b[0musecols\u001b[0m\u001b[0;34m=\u001b[0m\u001b[0;34m(\u001b[0m\u001b[0;36m4\u001b[0m\u001b[0;34m)\u001b[0m\u001b[0;34m)\u001b[0m\u001b[0;34m\u001b[0m\u001b[0;34m\u001b[0m\u001b[0m\n\u001b[0;32m---> 21\u001b[0;31m \u001b[0mmagnitude\u001b[0m \u001b[0;34m=\u001b[0m \u001b[0mnp\u001b[0m\u001b[0;34m.\u001b[0m\u001b[0mgenfromtxt\u001b[0m\u001b[0;34m(\u001b[0m\u001b[0;34m\"drive/MyDrive/Colab Notebooks/cat_italia_conv.txt\"\u001b[0m\u001b[0;34m,\u001b[0m\u001b[0mdtype\u001b[0m\u001b[0;34m=\u001b[0m\u001b[0;34m\"float\"\u001b[0m\u001b[0;34m,\u001b[0m\u001b[0mdelimiter\u001b[0m\u001b[0;34m=\u001b[0m\u001b[0;34m\" \"\u001b[0m\u001b[0;34m,\u001b[0m\u001b[0musecols\u001b[0m\u001b[0;34m=\u001b[0m\u001b[0;34m(\u001b[0m\u001b[0;36m10\u001b[0m\u001b[0;34m)\u001b[0m\u001b[0;34m)\u001b[0m\u001b[0;34m\u001b[0m\u001b[0;34m\u001b[0m\u001b[0m\n\u001b[0m\u001b[1;32m     22\u001b[0m \u001b[0;34m\u001b[0m\u001b[0m\n\u001b[1;32m     23\u001b[0m \u001b[0mplt\u001b[0m\u001b[0;34m.\u001b[0m\u001b[0mplot\u001b[0m\u001b[0;34m(\u001b[0m\u001b[0mlatitude\u001b[0m\u001b[0;34m,\u001b[0m\u001b[0mlongitude\u001b[0m\u001b[0;34m)\u001b[0m\u001b[0;34m\u001b[0m\u001b[0;34m\u001b[0m\u001b[0m\n",
            "\u001b[0;32m/usr/local/lib/python3.7/dist-packages/numpy/lib/npyio.py\u001b[0m in \u001b[0;36mgenfromtxt\u001b[0;34m(fname, dtype, comments, delimiter, skip_header, skip_footer, converters, missing_values, filling_values, usecols, names, excludelist, deletechars, replace_space, autostrip, case_sensitive, defaultfmt, unpack, usemask, loose, invalid_raise, max_rows, encoding, like)\u001b[0m\n\u001b[1;32m   2122\u001b[0m             \u001b[0;31m# Raise an exception ?\u001b[0m\u001b[0;34m\u001b[0m\u001b[0;34m\u001b[0m\u001b[0;34m\u001b[0m\u001b[0m\n\u001b[1;32m   2123\u001b[0m             \u001b[0;32mif\u001b[0m \u001b[0minvalid_raise\u001b[0m\u001b[0;34m:\u001b[0m\u001b[0;34m\u001b[0m\u001b[0;34m\u001b[0m\u001b[0m\n\u001b[0;32m-> 2124\u001b[0;31m                 \u001b[0;32mraise\u001b[0m \u001b[0mValueError\u001b[0m\u001b[0;34m(\u001b[0m\u001b[0merrmsg\u001b[0m\u001b[0;34m)\u001b[0m\u001b[0;34m\u001b[0m\u001b[0;34m\u001b[0m\u001b[0m\n\u001b[0m\u001b[1;32m   2125\u001b[0m             \u001b[0;31m# Issue a warning ?\u001b[0m\u001b[0;34m\u001b[0m\u001b[0;34m\u001b[0m\u001b[0;34m\u001b[0m\u001b[0m\n\u001b[1;32m   2126\u001b[0m             \u001b[0;32melse\u001b[0m\u001b[0;34m:\u001b[0m\u001b[0;34m\u001b[0m\u001b[0;34m\u001b[0m\u001b[0m\n",
            "\u001b[0;31mValueError\u001b[0m: Some errors were detected !\n    Line #48338 (got 6 columns instead of 1)\n    Line #48356 (got 6 columns instead of 1)\n    Line #49139 (got 6 columns instead of 1)\n    Line #49140 (got 6 columns instead of 1)\n    Line #49141 (got 6 columns instead of 1)\n    Line #49388 (got 6 columns instead of 1)\n    Line #49390 (got 6 columns instead of 1)\n    Line #49395 (got 6 columns instead of 1)\n    Line #49402 (got 6 columns instead of 1)\n    Line #49406 (got 6 columns instead of 1)\n    Line #49484 (got 6 columns instead of 1)\n    Line #49707 (got 6 columns instead of 1)\n    Line #49727 (got 6 columns instead of 1)\n    Line #49748 (got 6 columns instead of 1)\n    Line #50655 (got 6 columns instead of 1)\n    Line #50669 (got 6 columns instead of 1)\n    Line #50684 (got 6 columns instead of 1)\n    Line #50866 (got 6 columns instead of 1)\n    Line #50918 (got 6 columns instead of 1)\n    Line #50920 (got 6 columns instead of 1)\n    Line #50926 (got 6 columns instead of 1)\n    Line #50978 (got 6 columns instead of 1)\n    Line #51000 (got 6 columns instead of 1)\n    Line #51066 (got 6 columns instead of 1)\n    Line #51087 (got 6 columns instead of 1)\n    Line #51088 (got 6 columns instead of 1)\n    Line #51093 (got 6 columns instead of 1)\n    Line #51144 (got 6 columns instead of 1)\n    Line #51151 (got 6 columns instead of 1)\n    Line #51206 (got 6 columns instead of 1)\n    Line #51223 (got 6 columns instead of 1)"
          ]
        }
      ]
    },
    {
      "cell_type": "markdown",
      "source": [
        "#Defining functions"
      ],
      "metadata": {
        "id": "CyfX0_dgzU9j"
      }
    },
    {
      "cell_type": "code",
      "source": [
        "# Calculate the great circle distance in kilometers between two points on the earth (specified in decimal degrees)\n",
        "\n",
        "def distance(s_lat, e_lat, s_lng, e_lng):\n",
        "  # approximate radius of earth in km\n",
        "  R = 6373.0\n",
        "  s_lat = s_lat*np.pi/180.0                      \n",
        "  s_lng = np.deg2rad(s_lng)     \n",
        "  e_lat = np.deg2rad(e_lat)                       \n",
        "  e_lng = np.deg2rad(e_lng)  \n",
        "  d = np.sin((e_lat - s_lat)/2)**2 + np.cos(s_lat)*np.cos(e_lat) * np.sin((e_lng - s_lng)/2)**2\n",
        "  return 2 * R * np.arcsin(np.sqrt(d))"
      ],
      "metadata": {
        "id": "cnW3_ZNoUeFL"
      },
      "execution_count": null,
      "outputs": []
    },
    {
      "cell_type": "markdown",
      "source": [
        "#Declustering Space-Time Window"
      ],
      "metadata": {
        "id": "_R9VX-vUrmu7"
      }
    },
    {
      "cell_type": "code",
      "source": [
        "lencat = len(seconds)\n",
        "print('catalog length:',lencat,'events')\n",
        "filemain = open(\"drive/MyDrive/Colab Notebooks/mainshocks.txt\", \"w\")\n",
        "fileafter = open(\"drive/MyDrive/Colab Notebooks/aftershocks.txt\", \"w\")\n",
        "filefore = open(\"drive/MyDrive/Colab Notebooks/foreshocks.txt\", \"w\")\n",
        "\n",
        "####  DEFINING PARAMETERS ####\n",
        "\n",
        "magnitude_threshold = 6\n",
        "time_limit_fore = 7*24*3600 #within 7 days before\n",
        "time_limit_after = 3*24*3600 #within 3 days after\n",
        "space_limit = 100 #within 100 km\n",
        "\n",
        "##############################\n",
        "\n",
        "#### DEFINING ARRAY #####\n",
        "\n",
        "threshold_after = np.zeros(4)\n",
        "threshold_after[0] = 2.5\n",
        "threshold_after[1] = 3\n",
        "threshold_after[2] = 3.5\n",
        "threshold_after[3] = 4\n",
        "\n",
        "threshold_time = np.zeros(3)\n",
        "threshold_time[0] = 1*24*3600\n",
        "threshold_time[1] = 3*24*3600\n",
        "threshold_time[2] = 10*24*3600\n",
        "\n",
        "threshold_space = np.zeros(5)\n",
        "threshold_space[0] = 3\n",
        "threshold_space[1] = 10\n",
        "threshold_space[2] = 20\n",
        "threshold_space[3] = 40\n",
        "\n",
        "#########################\n",
        "\n",
        "#### SEARCHING FOR MAINSHOCKS ####\n",
        "\n",
        "for event in range(1,lencat):\n",
        "  if(magnitude[event]>=magnitude_threshold and magnitude[event]<magnitude_threshold+1):\n",
        "    for fore in range(event-1,-1,-1):     \n",
        "      dt = seconds[event]-seconds[fore]\n",
        "      if(dt>time_limit_fore):\n",
        "        main_index = True\n",
        "        break\n",
        "      elif(dt<time_limit_fore and magnitude[fore]>=magnitude_threshold):\n",
        "        dr = distance(latitude[event],latitude[fore],longitude[event],longitude[fore])\n",
        "        if (dr>space_limit):\n",
        "          main_index = True\n",
        "          break\n",
        "    for after in range(event+1,lencat): \n",
        "      dt = seconds[event]-seconds[after]\n",
        "      if(dt>time_limit_after):\n",
        "        main_index = True\n",
        "        break\n",
        "      elif(dt<time_limit_after and magnitude[after]>=magnitude_threshold):\n",
        "        dr = distance(latitude[event],latitude[after],longitude[event],longitude[after])\n",
        "        if (dr>space_limit):\n",
        "          main_index = True\n",
        "          break\n",
        "      \n",
        "    filemain.write(str(seconds[event])+\" \"+str(magnitude[event])+\" \"+str(latitude[event])+\" \"+str(longitude[event])+\"\\n\")\n",
        "\n",
        "#################################\n",
        "\n",
        "#### BUILDING AFTERSHOCK & FORESHOCKS MATRIX ####\n",
        "\n",
        "    nafter = np.zeros([4,3,5],dtype=np.int8)\n",
        "    nfore = np.zeros([4,3,5],dtype=np.int8)\n",
        "\n",
        "    threshold_space[4]=0.01*np.power(10,0.5*magnitude[event])\n",
        "    \n",
        "    if(main_index == True):\n",
        "      for after in range(event+1,lencat): \n",
        "        dt = seconds[after]-seconds[event]\n",
        "        dr = distance(latitude[event],latitude[after],longitude[event],longitude[after])\n",
        "        for mag_aft in range(4):\n",
        "          for time_aft in range(3):\n",
        "            for space_aft in range(5):\n",
        "              if(magnitude[after]>=threshold_after[mag_aft]):\n",
        "                if(dt<threshold_time[time_aft]):\n",
        "                  if(dr<threshold_space[space_aft]):\n",
        "                    nafter[mag_aft,time_aft,space_aft]+=1\n",
        "      \n",
        "      for fore in range(event-1,-1,-1):  \n",
        "        dt = seconds[event]-seconds[fore]\n",
        "        dr = distance(latitude[event],latitude[fore],longitude[event],longitude[fore])\n",
        "        for mag_aft in range(4):\n",
        "          for time_aft in range(3):\n",
        "            for space_aft in range(5):\n",
        "              if(magnitude[fore]>=threshold_after[mag_aft]):\n",
        "                if(dt<threshold_time[time_aft]):\n",
        "                  if(dr<threshold_space[space_aft]):\n",
        "                    nfore[mag_aft,time_aft,space_aft]+=1\n",
        "\n",
        "###################################################\n",
        "\n",
        "#### WRITING AFTERSHOCK & FORESHOCKS MATRIX ####\n",
        "\n",
        "      fileafter.write(str(nafter)+\"\\n\")\n",
        "      filefore.write(str(nfore)+\"\\n\")\n",
        "\n",
        "################################################\n",
        "\n",
        "\n",
        "\n",
        "\n",
        "\n",
        "\n"
      ],
      "metadata": {
        "id": "-MzNH42pCN4M",
        "outputId": "4b458346-cb12-402c-84a3-5bf18d07e1e8",
        "colab": {
          "base_uri": "https://localhost:8080/",
          "height": 356
        }
      },
      "execution_count": null,
      "outputs": [
        {
          "output_type": "stream",
          "name": "stdout",
          "text": [
            "catalog length: 104683 events\n"
          ]
        },
        {
          "output_type": "error",
          "ename": "KeyboardInterrupt",
          "evalue": "ignored",
          "traceback": [
            "\u001b[0;31m---------------------------------------------------------------------------\u001b[0m",
            "\u001b[0;31mKeyboardInterrupt\u001b[0m                         Traceback (most recent call last)",
            "\u001b[0;32m<ipython-input-17-0a5c4f230768>\u001b[0m in \u001b[0;36m<module>\u001b[0;34m()\u001b[0m\n\u001b[1;32m     85\u001b[0m       \u001b[0;32mfor\u001b[0m \u001b[0mfore\u001b[0m \u001b[0;32min\u001b[0m \u001b[0mrange\u001b[0m\u001b[0;34m(\u001b[0m\u001b[0mevent\u001b[0m\u001b[0;34m-\u001b[0m\u001b[0;36m1\u001b[0m\u001b[0;34m,\u001b[0m\u001b[0;34m-\u001b[0m\u001b[0;36m1\u001b[0m\u001b[0;34m,\u001b[0m\u001b[0;34m-\u001b[0m\u001b[0;36m1\u001b[0m\u001b[0;34m)\u001b[0m\u001b[0;34m:\u001b[0m\u001b[0;34m\u001b[0m\u001b[0;34m\u001b[0m\u001b[0m\n\u001b[1;32m     86\u001b[0m         \u001b[0mdt\u001b[0m \u001b[0;34m=\u001b[0m \u001b[0mseconds\u001b[0m\u001b[0;34m[\u001b[0m\u001b[0mevent\u001b[0m\u001b[0;34m]\u001b[0m\u001b[0;34m-\u001b[0m\u001b[0mseconds\u001b[0m\u001b[0;34m[\u001b[0m\u001b[0mfore\u001b[0m\u001b[0;34m]\u001b[0m\u001b[0;34m\u001b[0m\u001b[0;34m\u001b[0m\u001b[0m\n\u001b[0;32m---> 87\u001b[0;31m         \u001b[0mdr\u001b[0m \u001b[0;34m=\u001b[0m \u001b[0mdistance\u001b[0m\u001b[0;34m(\u001b[0m\u001b[0mlatitude\u001b[0m\u001b[0;34m[\u001b[0m\u001b[0mevent\u001b[0m\u001b[0;34m]\u001b[0m\u001b[0;34m,\u001b[0m\u001b[0mlatitude\u001b[0m\u001b[0;34m[\u001b[0m\u001b[0mfore\u001b[0m\u001b[0;34m]\u001b[0m\u001b[0;34m,\u001b[0m\u001b[0mlongitude\u001b[0m\u001b[0;34m[\u001b[0m\u001b[0mevent\u001b[0m\u001b[0;34m]\u001b[0m\u001b[0;34m,\u001b[0m\u001b[0mlongitude\u001b[0m\u001b[0;34m[\u001b[0m\u001b[0mfore\u001b[0m\u001b[0;34m]\u001b[0m\u001b[0;34m)\u001b[0m\u001b[0;34m\u001b[0m\u001b[0;34m\u001b[0m\u001b[0m\n\u001b[0m\u001b[1;32m     88\u001b[0m         \u001b[0;32mfor\u001b[0m \u001b[0mmag_aft\u001b[0m \u001b[0;32min\u001b[0m \u001b[0mrange\u001b[0m\u001b[0;34m(\u001b[0m\u001b[0;36m4\u001b[0m\u001b[0;34m)\u001b[0m\u001b[0;34m:\u001b[0m\u001b[0;34m\u001b[0m\u001b[0;34m\u001b[0m\u001b[0m\n\u001b[1;32m     89\u001b[0m           \u001b[0;32mfor\u001b[0m \u001b[0mtime_aft\u001b[0m \u001b[0;32min\u001b[0m \u001b[0mrange\u001b[0m\u001b[0;34m(\u001b[0m\u001b[0;36m3\u001b[0m\u001b[0;34m)\u001b[0m\u001b[0;34m:\u001b[0m\u001b[0;34m\u001b[0m\u001b[0;34m\u001b[0m\u001b[0m\n",
            "\u001b[0;32m<ipython-input-3-972684c79a32>\u001b[0m in \u001b[0;36mdistance\u001b[0;34m(s_lat, e_lat, s_lng, e_lng)\u001b[0m\n\u001b[1;32m      8\u001b[0m   \u001b[0me_lat\u001b[0m \u001b[0;34m=\u001b[0m \u001b[0mnp\u001b[0m\u001b[0;34m.\u001b[0m\u001b[0mdeg2rad\u001b[0m\u001b[0;34m(\u001b[0m\u001b[0me_lat\u001b[0m\u001b[0;34m)\u001b[0m\u001b[0;34m\u001b[0m\u001b[0;34m\u001b[0m\u001b[0m\n\u001b[1;32m      9\u001b[0m   \u001b[0me_lng\u001b[0m \u001b[0;34m=\u001b[0m \u001b[0mnp\u001b[0m\u001b[0;34m.\u001b[0m\u001b[0mdeg2rad\u001b[0m\u001b[0;34m(\u001b[0m\u001b[0me_lng\u001b[0m\u001b[0;34m)\u001b[0m\u001b[0;34m\u001b[0m\u001b[0;34m\u001b[0m\u001b[0m\n\u001b[0;32m---> 10\u001b[0;31m   \u001b[0md\u001b[0m \u001b[0;34m=\u001b[0m \u001b[0mnp\u001b[0m\u001b[0;34m.\u001b[0m\u001b[0msin\u001b[0m\u001b[0;34m(\u001b[0m\u001b[0;34m(\u001b[0m\u001b[0me_lat\u001b[0m \u001b[0;34m-\u001b[0m \u001b[0ms_lat\u001b[0m\u001b[0;34m)\u001b[0m\u001b[0;34m/\u001b[0m\u001b[0;36m2\u001b[0m\u001b[0;34m)\u001b[0m\u001b[0;34m**\u001b[0m\u001b[0;36m2\u001b[0m \u001b[0;34m+\u001b[0m \u001b[0mnp\u001b[0m\u001b[0;34m.\u001b[0m\u001b[0mcos\u001b[0m\u001b[0;34m(\u001b[0m\u001b[0ms_lat\u001b[0m\u001b[0;34m)\u001b[0m\u001b[0;34m*\u001b[0m\u001b[0mnp\u001b[0m\u001b[0;34m.\u001b[0m\u001b[0mcos\u001b[0m\u001b[0;34m(\u001b[0m\u001b[0me_lat\u001b[0m\u001b[0;34m)\u001b[0m \u001b[0;34m*\u001b[0m \u001b[0mnp\u001b[0m\u001b[0;34m.\u001b[0m\u001b[0msin\u001b[0m\u001b[0;34m(\u001b[0m\u001b[0;34m(\u001b[0m\u001b[0me_lng\u001b[0m \u001b[0;34m-\u001b[0m \u001b[0ms_lng\u001b[0m\u001b[0;34m)\u001b[0m\u001b[0;34m/\u001b[0m\u001b[0;36m2\u001b[0m\u001b[0;34m)\u001b[0m\u001b[0;34m**\u001b[0m\u001b[0;36m2\u001b[0m\u001b[0;34m\u001b[0m\u001b[0;34m\u001b[0m\u001b[0m\n\u001b[0m\u001b[1;32m     11\u001b[0m   \u001b[0;32mreturn\u001b[0m \u001b[0;36m2\u001b[0m \u001b[0;34m*\u001b[0m \u001b[0mR\u001b[0m \u001b[0;34m*\u001b[0m \u001b[0mnp\u001b[0m\u001b[0;34m.\u001b[0m\u001b[0marcsin\u001b[0m\u001b[0;34m(\u001b[0m\u001b[0mnp\u001b[0m\u001b[0;34m.\u001b[0m\u001b[0msqrt\u001b[0m\u001b[0;34m(\u001b[0m\u001b[0md\u001b[0m\u001b[0;34m)\u001b[0m\u001b[0;34m)\u001b[0m\u001b[0;34m\u001b[0m\u001b[0;34m\u001b[0m\u001b[0m\n",
            "\u001b[0;31mKeyboardInterrupt\u001b[0m: "
          ]
        }
      ]
    },
    {
      "cell_type": "markdown",
      "source": [
        "#Declustering Baiesi"
      ],
      "metadata": {
        "id": "zpCdkstmCEpt"
      }
    }
  ]
}