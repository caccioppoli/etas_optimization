{
  "nbformat": 4,
  "nbformat_minor": 0,
  "metadata": {
    "colab": {
      "name": "etas_op.ipynb",
      "provenance": [],
      "authorship_tag": "ABX9TyMJsgb6OiA9r2slWbtrQBqD",
      "include_colab_link": true
    },
    "kernelspec": {
      "name": "python3",
      "display_name": "Python 3"
    },
    "language_info": {
      "name": "python"
    }
  },
  "cells": [
    {
      "cell_type": "markdown",
      "metadata": {
        "id": "view-in-github",
        "colab_type": "text"
      },
      "source": [
        "<a href=\"https://colab.research.google.com/github/caccioppoli/etas_optimization/blob/main/etas_op.ipynb\" target=\"_parent\"><img src=\"https://colab.research.google.com/assets/colab-badge.svg\" alt=\"Open In Colab\"/></a>"
      ]
    },
    {
      "cell_type": "code",
      "execution_count": 42,
      "metadata": {
        "id": "3949YQfTKkEq",
        "colab": {
          "base_uri": "https://localhost:8080/"
        },
        "outputId": "63d85874-66e8-411f-a398-ca905edc687e"
      },
      "outputs": [
        {
          "output_type": "stream",
          "name": "stdout",
          "text": [
            "Drive already mounted at /content/drive; to attempt to forcibly remount, call drive.mount(\"/content/drive\", force_remount=True).\n"
          ]
        }
      ],
      "source": [
        "import numpy as np\n",
        "import pandas as pd\n",
        "import pickle as pkl\n",
        "import scipy.stats as stats\n",
        "import matplotlib.pyplot as plt\n",
        "import datetime\n",
        "import time\n",
        "from google.colab import drive\n",
        "drive.mount('/content/drive')"
      ]
    },
    {
      "cell_type": "markdown",
      "source": [
        "# Loading instrumental catalog"
      ],
      "metadata": {
        "id": "utew4z8VbMcQ"
      }
    },
    {
      "cell_type": "code",
      "source": [
        "with open(\"drive/MyDrive/Colab Notebooks/cat_italia.txt\",\"r\") as infile, open(\"drive/MyDrive/Colab Notebooks/cat_italia_conv.txt\",'w') as outfile:\n",
        "    for line in infile:\n",
        "      outfile.write(\" \".join(line.split()).replace('|',' '))\n",
        "      outfile.write(\"\\n\")\n",
        "\n",
        "catalog = np.genfromtxt(\"drive/MyDrive/Colab Notebooks/cat_italia_conv.txt\",dtype=\"str\",delimiter=\" \",usecols=(0,1,2,3,4,5,6,7))\n",
        "\n",
        "catalog[0,1]\n",
        "\n",
        "\n",
        "\n",
        "\n",
        "\n",
        "      \n"
      ],
      "metadata": {
        "id": "yATO705CARVs",
        "outputId": "430af23e-174e-4146-f5c8-4e3f9b43db90",
        "colab": {
          "base_uri": "https://localhost:8080/",
          "height": 35
        }
      },
      "execution_count": 45,
      "outputs": [
        {
          "output_type": "execute_result",
          "data": {
            "application/vnd.google.colaboratory.intrinsic+json": {
              "type": "string"
            },
            "text/plain": [
              "'1985-01-02T18:39:30.740000'"
            ]
          },
          "metadata": {},
          "execution_count": 45
        }
      ]
    },
    {
      "cell_type": "code",
      "source": [
        ""
      ],
      "metadata": {
        "id": "VdWnGejTGmyT"
      },
      "execution_count": null,
      "outputs": []
    }
  ]
}