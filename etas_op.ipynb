{
  "nbformat": 4,
  "nbformat_minor": 0,
  "metadata": {
    "colab": {
      "name": "etas_op.ipynb",
      "provenance": [],
      "authorship_tag": "ABX9TyORuE6znz1/Wd+YTncKKKpN",
      "include_colab_link": true
    },
    "kernelspec": {
      "name": "python3",
      "display_name": "Python 3"
    },
    "language_info": {
      "name": "python"
    }
  },
  "cells": [
    {
      "cell_type": "markdown",
      "metadata": {
        "id": "view-in-github",
        "colab_type": "text"
      },
      "source": [
        "<a href=\"https://colab.research.google.com/github/caccioppoli/etas_optimization/blob/main/etas_op.ipynb\" target=\"_parent\"><img src=\"https://colab.research.google.com/assets/colab-badge.svg\" alt=\"Open In Colab\"/></a>"
      ]
    },
    {
      "cell_type": "markdown",
      "source": [
        "#Importing libraries"
      ],
      "metadata": {
        "id": "MqswhN4Y-6a5"
      }
    },
    {
      "cell_type": "code",
      "execution_count": 15,
      "metadata": {
        "id": "3949YQfTKkEq",
        "colab": {
          "base_uri": "https://localhost:8080/"
        },
        "outputId": "a281c32b-f55a-405a-e72f-4e7745e22821"
      },
      "outputs": [
        {
          "output_type": "stream",
          "name": "stdout",
          "text": [
            "Drive already mounted at /content/drive; to attempt to forcibly remount, call drive.mount(\"/content/drive\", force_remount=True).\n"
          ]
        }
      ],
      "source": [
        "import numpy as np\n",
        "import pandas as pd\n",
        "import pickle as pkl\n",
        "import scipy.stats as stats\n",
        "import matplotlib.pyplot as plt\n",
        "from datetime import datetime\n",
        "from math import radians, cos, sin, asin, sqrt\n",
        "import time\n",
        "from google.colab import drive\n",
        "drive.mount('/content/drive')"
      ]
    },
    {
      "cell_type": "markdown",
      "source": [
        "# Loading instrumental catalog"
      ],
      "metadata": {
        "id": "utew4z8VbMcQ"
      }
    },
    {
      "cell_type": "code",
      "source": [
        "with open(\"drive/MyDrive/Colab Notebooks/cat_italia.txt\",\"r\") as infile, open(\"drive/MyDrive/Colab Notebooks/cat_italia_conv.txt\",'w') as outfile:\n",
        "    for line in infile:\n",
        "      outfile.write(\" \".join(line.split()).replace('|',' '))\n",
        "      outfile.write(\"\\n\")\n",
        "\n",
        "# converto e memorizzo in secondi la data \n",
        "\n",
        "sdate = np.genfromtxt(\"drive/MyDrive/Colab Notebooks/cat_italia_conv.txt\",dtype=\"str\",delimiter=\" \",usecols=(1))\n",
        "startdate = datetime.strptime('1985-01-02T18:39:30.740000',\"%Y-%m-%dT%H:%M:%S.%f\")\n",
        "seconds = []\n",
        "for time in sdate:\n",
        "  date = datetime.strptime(time,\"%Y-%m-%dT%H:%M:%S.%f\")\n",
        "  temp = (date - startdate).total_seconds()\n",
        "  seconds.append(temp)\n",
        "\n",
        "# converto e memorizzo le altre grandezze del catalogo\n",
        "\n",
        "latitude = np.genfromtxt(\"drive/MyDrive/Colab Notebooks/cat_italia_conv.txt\",dtype=\"float\",delimiter=\" \",usecols=(2))\n",
        "longitude = np.genfromtxt(\"drive/MyDrive/Colab Notebooks/cat_italia_conv.txt\",dtype=\"float\",delimiter=\" \",usecols=(3))\n",
        "depth = np.genfromtxt(\"drive/MyDrive/Colab Notebooks/cat_italia_conv.txt\",dtype=\"float\",delimiter=\" \",usecols=(4))\n",
        "magnitude = np.genfromtxt(\"drive/MyDrive/Colab Notebooks/cat_italia_conv.txt\",dtype=\"float\",delimiter=\" \",usecols=(10))\n"
      ],
      "metadata": {
        "id": "yATO705CARVs"
      },
      "execution_count": 16,
      "outputs": []
    },
    {
      "cell_type": "markdown",
      "source": [
        "#Declustering Space-Time Window"
      ],
      "metadata": {
        "id": "_R9VX-vUrmu7"
      }
    },
    {
      "cell_type": "code",
      "source": [
        "# Calculate the great circle distance in kilometers between two points on the earth (specified in decimal degrees)\n",
        "\n",
        "def distance(s_lat, e_lat, s_lng, e_lng):\n",
        "  # approximate radius of earth in km\n",
        "  R = 6373.0\n",
        "  s_lat = s_lat*np.pi/180.0                      \n",
        "  s_lng = np.deg2rad(s_lng)     \n",
        "  e_lat = np.deg2rad(e_lat)                       \n",
        "  e_lng = np.deg2rad(e_lng)  \n",
        "  d = np.sin((e_lat - s_lat)/2)**2 + np.cos(s_lat)*np.cos(e_lat) * np.sin((e_lng - s_lng)/2)**2\n",
        "  return 2 * R * np.arcsin(np.sqrt(d))"
      ],
      "metadata": {
        "id": "cnW3_ZNoUeFL"
      },
      "execution_count": 35,
      "outputs": []
    },
    {
      "cell_type": "code",
      "source": [
        "lencat = len(seconds)\n",
        "print('catalog length:',lencat,'events')\n",
        "\n",
        "# searching for mainshocks\n",
        "\n",
        "for event in range(lencat):\n",
        "  for fore in range(event-1,-1,-1):\n",
        "    dt = seconds(event)-seconds(fore)\n",
        "    dr = distance(latitude(event),latitude(fore),longitude(event),longitude(fore))"
      ],
      "metadata": {
        "id": "-MzNH42pCN4M",
        "outputId": "99a4c23c-ba4a-4ec1-8cba-f1042b6da652",
        "colab": {
          "base_uri": "https://localhost:8080/"
        }
      },
      "execution_count": 36,
      "outputs": [
        {
          "output_type": "stream",
          "name": "stdout",
          "text": [
            "catalog length: 104683 events\n",
            "111.22983322959878\n"
          ]
        }
      ]
    },
    {
      "cell_type": "markdown",
      "source": [
        "#Declustering Baiesi"
      ],
      "metadata": {
        "id": "zpCdkstmCEpt"
      }
    }
  ]
}