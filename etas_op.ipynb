{
  "nbformat": 4,
  "nbformat_minor": 0,
  "metadata": {
    "colab": {
      "name": "etas_op.ipynb",
      "provenance": [],
      "authorship_tag": "ABX9TyOu8YQjcvk/vlm/UvNs9ohb",
      "include_colab_link": true
    },
    "kernelspec": {
      "name": "python3",
      "display_name": "Python 3"
    },
    "language_info": {
      "name": "python"
    }
  },
  "cells": [
    {
      "cell_type": "markdown",
      "metadata": {
        "id": "view-in-github",
        "colab_type": "text"
      },
      "source": [
        "<a href=\"https://colab.research.google.com/github/caccioppoli/etas_optimization/blob/main/etas_op.ipynb\" target=\"_parent\"><img src=\"https://colab.research.google.com/assets/colab-badge.svg\" alt=\"Open In Colab\"/></a>"
      ]
    },
    {
      "cell_type": "markdown",
      "source": [
        "#Importing libraries"
      ],
      "metadata": {
        "id": "MqswhN4Y-6a5"
      }
    },
    {
      "cell_type": "code",
      "execution_count": 1,
      "metadata": {
        "id": "3949YQfTKkEq",
        "colab": {
          "base_uri": "https://localhost:8080/"
        },
        "outputId": "f98c11d2-48d0-4d4e-e248-c8a4d43f7969"
      },
      "outputs": [
        {
          "output_type": "stream",
          "name": "stdout",
          "text": [
            "Mounted at /content/drive\n"
          ]
        }
      ],
      "source": [
        "import numpy as np\n",
        "import pandas as pd\n",
        "import pickle as pkl\n",
        "import scipy.stats as stats\n",
        "import matplotlib.pyplot as plt\n",
        "from datetime import datetime\n",
        "from math import radians, cos, sin, asin, sqrt\n",
        "import time\n",
        "from google.colab import drive\n",
        "drive.mount('/content/drive')"
      ]
    },
    {
      "cell_type": "markdown",
      "source": [
        "# Loading instrumental catalog"
      ],
      "metadata": {
        "id": "utew4z8VbMcQ"
      }
    },
    {
      "cell_type": "code",
      "source": [
        "with open(\"drive/MyDrive/Colab Notebooks/cat_italia.txt\",\"r\") as infile, open(\"drive/MyDrive/Colab Notebooks/cat_italia_conv.txt\",'w') as outfile:\n",
        "    for line in infile:\n",
        "      outfile.write(\" \".join(line.split()).replace('|',' '))\n",
        "      outfile.write(\"\\n\")\n",
        "\n",
        "# converto e memorizzo in secondi la data \n",
        "\n",
        "sdate = np.genfromtxt(\"drive/MyDrive/Colab Notebooks/cat_italia_conv.txt\",dtype=\"str\",delimiter=\" \",usecols=(1))\n",
        "startdate = datetime.strptime('1985-01-02T18:39:30.740000',\"%Y-%m-%dT%H:%M:%S.%f\")\n",
        "seconds = []\n",
        "for time in sdate:\n",
        "  date = datetime.strptime(time,\"%Y-%m-%dT%H:%M:%S.%f\")\n",
        "  temp = (date - startdate).total_seconds()\n",
        "  seconds.append(temp)\n",
        "\n",
        "# converto e memorizzo le altre grandezze del catalogo\n",
        "\n",
        "latitude = np.genfromtxt(\"drive/MyDrive/Colab Notebooks/cat_italia_conv.txt\",dtype=\"float\",delimiter=\" \",usecols=(2))\n",
        "longitude = np.genfromtxt(\"drive/MyDrive/Colab Notebooks/cat_italia_conv.txt\",dtype=\"float\",delimiter=\" \",usecols=(3))\n",
        "depth = np.genfromtxt(\"drive/MyDrive/Colab Notebooks/cat_italia_conv.txt\",dtype=\"float\",delimiter=\" \",usecols=(4))\n",
        "magnitude = np.genfromtxt(\"drive/MyDrive/Colab Notebooks/cat_italia_conv.txt\",dtype=\"float\",delimiter=\" \",usecols=(10))\n"
      ],
      "metadata": {
        "id": "yATO705CARVs"
      },
      "execution_count": 2,
      "outputs": []
    },
    {
      "cell_type": "markdown",
      "source": [
        "#Defining functions"
      ],
      "metadata": {
        "id": "CyfX0_dgzU9j"
      }
    },
    {
      "cell_type": "code",
      "source": [
        "# Calculate the great circle distance in kilometers between two points on the earth (specified in decimal degrees)\n",
        "\n",
        "def distance(s_lat, e_lat, s_lng, e_lng):\n",
        "  # approximate radius of earth in km\n",
        "  R = 6373.0\n",
        "  s_lat = s_lat*np.pi/180.0                      \n",
        "  s_lng = np.deg2rad(s_lng)     \n",
        "  e_lat = np.deg2rad(e_lat)                       \n",
        "  e_lng = np.deg2rad(e_lng)  \n",
        "  d = np.sin((e_lat - s_lat)/2)**2 + np.cos(s_lat)*np.cos(e_lat) * np.sin((e_lng - s_lng)/2)**2\n",
        "  return 2 * R * np.arcsin(np.sqrt(d))"
      ],
      "metadata": {
        "id": "cnW3_ZNoUeFL"
      },
      "execution_count": 3,
      "outputs": []
    },
    {
      "cell_type": "markdown",
      "source": [
        "#Declustering Space-Time Window"
      ],
      "metadata": {
        "id": "_R9VX-vUrmu7"
      }
    },
    {
      "cell_type": "code",
      "source": [
        "lencat = len(seconds)\n",
        "print('catalog length:',lencat,'events')\n",
        "filemain = open(\"drive/MyDrive/Colab Notebooks/mainshocks.txt\", \"w\")\n",
        "fileafter = open(\"drive/MyDrive/Colab Notebooks/aftershocks.txt\", \"w\")\n",
        "filefore = open(\"drive/MyDrive/Colab Notebooks/foreshocks.txt\", \"w\")\n",
        "\n",
        "####  DEFINING PARAMETERS ####\n",
        "\n",
        "magnitude_threshold = 4\n",
        "time_limit_fore = 7*24*3600 #within 7 days before\n",
        "time_limit_after = 3*24*3600 #within 3 days after\n",
        "space_limit = 100 #within 100 km\n",
        "\n",
        "##############################\n",
        "\n",
        "#### DEFINING ARRAY #####\n",
        "\n",
        "threshold_after = np.zeros(4)\n",
        "threshold_after[0] = 2.5\n",
        "threshold_after[1] = 3\n",
        "threshold_after[2] = 3.5\n",
        "threshold_after[3] = 4\n",
        "\n",
        "threshold_time = np.zeros(3)\n",
        "threshold_time[0] = 1*24*3600\n",
        "threshold_time[1] = 3*24*3600\n",
        "threshold_time[2] = 10*24*3600\n",
        "\n",
        "threshold_space = np.zeros(3)\n",
        "threshold_space[0] = 3\n",
        "threshold_space[1] = 10\n",
        "threshold_space[2] = 20\n",
        "threshold_space[3] = 40\n",
        "\n",
        "nafter = np.zeros(4,3,5,dtype=int8)\n",
        "nfore = np.zeros(4,3,5,dtype=int8)\n",
        "\n",
        "#########################\n",
        "\n",
        "#### SEARCHING FOR MAINSHOCKS ####\n",
        "\n",
        "for event in range(1,lencat):\n",
        "  if(magnitude[event]>=magnitude_threshold and magnitude[event]<magnitude_threshold+1):\n",
        "    for fore in range(event-1,-1,-1):     \n",
        "      dt = seconds[event]-seconds[fore]\n",
        "      if(dt>time_limit_fore):\n",
        "        break\n",
        "      elif(dt<time_limit_fore and magnitude[fore]>=magnitude_threshold):\n",
        "        dr = distance(latitude[event],latitude[fore],longitude[event],longitude[fore])\n",
        "        if (dr>space_limit):\n",
        "          break\n",
        "    for after in range(event+1,lencat): \n",
        "      dt = seconds[event]-seconds[after]\n",
        "      if(dt>time_limit_after):\n",
        "        break\n",
        "      elif(dt<time_limit_after and magnitude[after]>=magnitude_threshold):\n",
        "        dr = distance(latitude[event],latitude[after],longitude[event],longitude[after])\n",
        "        if (dr>space_limit):\n",
        "          break\n",
        "      \n",
        "    filemain.write(str(seconds[event])+\" \"+str(magnitude[event])+\" \"+str(latitude[event])+\" \"+str(longitude[event])+\"\\n\")\n",
        "\n",
        "#################################\n",
        "\n",
        "#### BUILDING AFTERSHOCK & FORESHOCKS MATRIX ####\n",
        "\n",
        "    threshold_space[4]=0.01*10^(0.5*magnitude[event])\n",
        "\n",
        "    for after in range(event+1,lencat): \n",
        "      dt = seconds[after]-seconds[event]\n",
        "      dr = distance(latitude[event],latitude[after],longitude[event],longitude[after])\n",
        "      for mag_aft in range(4):\n",
        "        for time_aft in range(3):\n",
        "          for space_aft in range(5):\n",
        "            if(magnitude[after]>=threshold_after[mag_aft] and magnitude[after]<threshold_after[mag_aft]+1):\n",
        "              if(dt<threshold_time[time_aft]):\n",
        "                if(dr<threshold_space[space_aft]):\n",
        "                  nafter[mag_aft,time_aft,space_aft]+=1\n",
        "    \n",
        "    for fore in range(event-1,-1,-1):  \n",
        "      dt = seconds[event]-seconds[fore]\n",
        "      dr = distance(latitude[event],latitude[fore],longitude[event],longitude[fore])\n",
        "      for mag_aft in range(4):\n",
        "        for time_aft in range(3):\n",
        "          for space_aft in range(5):\n",
        "            if(magnitude[fore]>=threshold_after[mag_aft] and magnitude[fore]<threshold_after[mag_aft]+1):\n",
        "              if(dt<threshold_time[time_aft]):\n",
        "                if(dr<threshold_space[space_aft]):\n",
        "                  nfore[mag_aft,time_aft,space_aft]+=1\n",
        "\n",
        "###################################################\n",
        "\n",
        "#### WRITING AFTERSHOCK & FORESHOCKS MATRIX ####\n",
        "\n",
        "    fileafter.write(str(nafter))\n",
        "    filefore.write(str(nfore))\n",
        "\n",
        "################################################\n",
        "\n",
        "\n",
        "\n",
        "\n",
        "\n",
        "\n"
      ],
      "metadata": {
        "id": "-MzNH42pCN4M",
        "outputId": "53836bc6-65c6-40a3-8c1b-9bb2e4f5731b",
        "colab": {
          "base_uri": "https://localhost:8080/"
        }
      },
      "execution_count": 10,
      "outputs": [
        {
          "output_type": "stream",
          "name": "stdout",
          "text": [
            "catalog length: 104683 events\n"
          ]
        }
      ]
    },
    {
      "cell_type": "markdown",
      "source": [
        "#Declustering Baiesi"
      ],
      "metadata": {
        "id": "zpCdkstmCEpt"
      }
    }
  ]
}